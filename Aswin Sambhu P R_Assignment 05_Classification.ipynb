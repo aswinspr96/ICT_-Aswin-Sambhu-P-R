{
 "cells": [
  {
   "cell_type": "markdown",
   "id": "4b08d026",
   "metadata": {},
   "source": [
    "## Read the dataset into the Python environment:"
   ]
  },
  {
   "cell_type": "code",
   "execution_count": 1,
   "id": "c84b8bfd",
   "metadata": {},
   "outputs": [],
   "source": [
    "import pandas as pd\n",
    "# Read the dataset\n",
    "dataset = pd.read_excel('iris.xls')"
   ]
  },
  {
   "cell_type": "markdown",
   "id": "9e49d84f",
   "metadata": {},
   "source": [
    "## Do the necessary pre-processing steps:"
   ]
  },
  {
   "cell_type": "code",
   "execution_count": 2,
   "id": "470d9b67",
   "metadata": {},
   "outputs": [
    {
     "name": "stdout",
     "output_type": "stream",
     "text": [
      "    SL   SW   PL   PW Classification\n",
      "0  5.1  3.5  1.4  0.2    Iris-setosa\n",
      "1  4.9  3.0  1.4  0.2    Iris-setosa\n",
      "2  NaN  3.2  1.3  0.2    Iris-setosa\n",
      "3  4.6  3.1  1.5  0.2    Iris-setosa\n",
      "4  5.0  3.6  1.4  0.2    Iris-setosa\n"
     ]
    }
   ],
   "source": [
    "# Check the basic details of the dataset\n",
    "print(dataset.head()) # Print the first few rows of the dataset"
   ]
  },
  {
   "cell_type": "code",
   "execution_count": 3,
   "id": "e2b109a2",
   "metadata": {},
   "outputs": [
    {
     "name": "stdout",
     "output_type": "stream",
     "text": [
      "<class 'pandas.core.frame.DataFrame'>\n",
      "RangeIndex: 150 entries, 0 to 149\n",
      "Data columns (total 5 columns):\n",
      " #   Column          Non-Null Count  Dtype  \n",
      "---  ------          --------------  -----  \n",
      " 0   SL              143 non-null    float64\n",
      " 1   SW              144 non-null    float64\n",
      " 2   PL              144 non-null    float64\n",
      " 3   PW              150 non-null    float64\n",
      " 4   Classification  150 non-null    object \n",
      "dtypes: float64(4), object(1)\n",
      "memory usage: 6.0+ KB\n",
      "None\n"
     ]
    }
   ],
   "source": [
    "print(dataset.info()) # Display information about the dataset (e.g., column␣↪names, data types)"
   ]
  },
  {
   "cell_type": "code",
   "execution_count": 4,
   "id": "ac7a720b",
   "metadata": {},
   "outputs": [
    {
     "name": "stdout",
     "output_type": "stream",
     "text": [
      "SL                7\n",
      "SW                6\n",
      "PL                6\n",
      "PW                0\n",
      "Classification    0\n",
      "dtype: int64\n"
     ]
    }
   ],
   "source": [
    "from sklearn.model_selection import train_test_split\n",
    "from sklearn.preprocessing import StandardScaler\n",
    "# Check for missing values\n",
    "print(dataset.isnull().sum())"
   ]
  },
  {
   "cell_type": "code",
   "execution_count": 5,
   "id": "f05a591f",
   "metadata": {},
   "outputs": [],
   "source": [
    "# Drop rows with missing values\n",
    "dataset.dropna(inplace=True)"
   ]
  },
  {
   "cell_type": "code",
   "execution_count": 7,
   "id": "583edd89",
   "metadata": {},
   "outputs": [],
   "source": [
    "# Separate features (SL, SW, PL, PW) and the target variable (Classification)\n",
    "X = dataset[['SL', 'SW', 'PL', 'PW']]\n",
    "y = dataset['Classification']\n",
    "# Split the dataset into training and testing sets\n",
    "X_train, X_test, y_train, y_test = train_test_split(X, y, test_size=0.2,random_state=42)\n",
    "# Perform feature scaling\n",
    "scaler = StandardScaler()\n",
    "X_train = scaler.fit_transform(X_train)\n",
    "X_test = scaler.transform(X_test)"
   ]
  },
  {
   "cell_type": "markdown",
   "id": "9949a3e6",
   "metadata": {},
   "source": [
    "## Evaluate multiple classification algorithms to find the best result:"
   ]
  },
  {
   "cell_type": "code",
   "execution_count": 10,
   "id": "4e7d9504",
   "metadata": {},
   "outputs": [
    {
     "name": "stdout",
     "output_type": "stream",
     "text": [
      "Logistic Regression: 1.0\n",
      "Decision Tree: 1.0\n",
      "Random Forest: 1.0\n",
      "Support Vector Machine: 1.0\n",
      "Best Model: Logistic Regression\n"
     ]
    }
   ],
   "source": [
    "from sklearn.linear_model import LogisticRegression\n",
    "from sklearn.tree import DecisionTreeClassifier\n",
    "from sklearn.ensemble import RandomForestClassifier\n",
    "from sklearn.svm import SVC\n",
    "from sklearn.metrics import accuracy_score\n",
    "# Initialize the classifiers\n",
    "classifiers = {\n",
    "'Logistic Regression': LogisticRegression(),\n",
    "'Decision Tree': DecisionTreeClassifier(),\n",
    "'Random Forest': RandomForestClassifier(),\n",
    "'Support Vector Machine': SVC()\n",
    "}\n",
    "# Train and evaluate each classifier\n",
    "results = {}\n",
    "for clf_name, clf in classifiers.items():\n",
    "    clf.fit(X_train, y_train)\n",
    "    y_pred = clf.predict(X_test)\n",
    "    accuracy = accuracy_score(y_test, y_pred)\n",
    "    results[clf_name] = accuracy\n",
    "# Print the results\n",
    "for clf_name, accuracy in results.items():\n",
    "    print(f'{clf_name}: {accuracy}')\n",
    "# Find the best performing model\n",
    "best_model = max(results, key=results.get)\n",
    "print(f'Best Model: {best_model}')"
   ]
  },
  {
   "cell_type": "code",
   "execution_count": null,
   "id": "4e44ccc6",
   "metadata": {},
   "outputs": [],
   "source": []
  }
 ],
 "metadata": {
  "kernelspec": {
   "display_name": "Python 3 (ipykernel)",
   "language": "python",
   "name": "python3"
  },
  "language_info": {
   "codemirror_mode": {
    "name": "ipython",
    "version": 3
   },
   "file_extension": ".py",
   "mimetype": "text/x-python",
   "name": "python",
   "nbconvert_exporter": "python",
   "pygments_lexer": "ipython3",
   "version": "3.10.10"
  }
 },
 "nbformat": 4,
 "nbformat_minor": 5
}

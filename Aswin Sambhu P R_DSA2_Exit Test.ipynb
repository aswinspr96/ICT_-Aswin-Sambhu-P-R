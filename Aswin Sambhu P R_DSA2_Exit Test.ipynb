{
 "cells": [
  {
   "cell_type": "code",
   "execution_count": 1,
   "id": "d61a7c36",
   "metadata": {},
   "outputs": [],
   "source": [
    "# Import necessary libraries\n",
    "import pandas as pd\n",
    "import numpy as np\n",
    "import matplotlib.pyplot as plt\n",
    "import seaborn as sns\n",
    "from sklearn.model_selection import train_test_split, GridSearchCV\n",
    "from sklearn.preprocessing import StandardScaler\n",
    "from sklearn.linear_model import LinearRegression\n",
    "from sklearn.metrics import mean_squared_error, r2_score"
   ]
  },
  {
   "cell_type": "code",
   "execution_count": 2,
   "id": "f720930d",
   "metadata": {},
   "outputs": [],
   "source": [
    "# Load the dataset\n",
    "data = pd.read_csv('train.csv')"
   ]
  },
  {
   "cell_type": "markdown",
   "id": "5c3066ef",
   "metadata": {},
   "source": [
    "## Exploratory Data Analysis (EDA)\n"
   ]
  },
  {
   "cell_type": "code",
   "execution_count": 4,
   "id": "84139144",
   "metadata": {},
   "outputs": [
    {
     "name": "stdout",
     "output_type": "stream",
     "text": [
      "Dataset Info:\n",
      "<class 'pandas.core.frame.DataFrame'>\n",
      "RangeIndex: 15681 entries, 0 to 15680\n",
      "Data columns (total 18 columns):\n",
      " #   Column             Non-Null Count  Dtype  \n",
      "---  ------             --------------  -----  \n",
      " 0   instance_id        15681 non-null  object \n",
      " 1   track_name         15681 non-null  object \n",
      " 2   popularity         15039 non-null  float64\n",
      " 3   acousticness       15681 non-null  float64\n",
      " 4   danceability       15125 non-null  float64\n",
      " 5   duration_ms        15587 non-null  float64\n",
      " 6   energy             15587 non-null  float64\n",
      " 7   instrumentalness   15586 non-null  float64\n",
      " 8   key                15681 non-null  object \n",
      " 9   liveness           15681 non-null  float64\n",
      " 10  loudness           15645 non-null  float64\n",
      " 11  voice_gender       14916 non-null  object \n",
      " 12  mode               15646 non-null  object \n",
      " 13  speechiness        15655 non-null  float64\n",
      " 14  tempo              15681 non-null  object \n",
      " 15  musician_category  14321 non-null  object \n",
      " 16  valence            15004 non-null  float64\n",
      " 17  music_genre        15681 non-null  object \n",
      "dtypes: float64(10), object(8)\n",
      "memory usage: 2.2+ MB\n"
     ]
    }
   ],
   "source": [
    "# Display basic dataset info\n",
    "print(\"Dataset Info:\")\n",
    "data.info()"
   ]
  },
  {
   "cell_type": "code",
   "execution_count": 5,
   "id": "023550d4",
   "metadata": {},
   "outputs": [
    {
     "name": "stdout",
     "output_type": "stream",
     "text": [
      "\n",
      "Summary Statistics:\n"
     ]
    },
    {
     "data": {
      "text/html": [
       "<div>\n",
       "<style scoped>\n",
       "    .dataframe tbody tr th:only-of-type {\n",
       "        vertical-align: middle;\n",
       "    }\n",
       "\n",
       "    .dataframe tbody tr th {\n",
       "        vertical-align: top;\n",
       "    }\n",
       "\n",
       "    .dataframe thead th {\n",
       "        text-align: right;\n",
       "    }\n",
       "</style>\n",
       "<table border=\"1\" class=\"dataframe\">\n",
       "  <thead>\n",
       "    <tr style=\"text-align: right;\">\n",
       "      <th></th>\n",
       "      <th>popularity</th>\n",
       "      <th>acousticness</th>\n",
       "      <th>danceability</th>\n",
       "      <th>duration_ms</th>\n",
       "      <th>energy</th>\n",
       "      <th>instrumentalness</th>\n",
       "      <th>liveness</th>\n",
       "      <th>loudness</th>\n",
       "      <th>speechiness</th>\n",
       "      <th>valence</th>\n",
       "    </tr>\n",
       "  </thead>\n",
       "  <tbody>\n",
       "    <tr>\n",
       "      <th>count</th>\n",
       "      <td>15039.000000</td>\n",
       "      <td>15681.000000</td>\n",
       "      <td>15125.000000</td>\n",
       "      <td>1.558700e+04</td>\n",
       "      <td>15587.000000</td>\n",
       "      <td>15586.000000</td>\n",
       "      <td>15681.000000</td>\n",
       "      <td>15645.000000</td>\n",
       "      <td>15655.000000</td>\n",
       "      <td>15004.000000</td>\n",
       "    </tr>\n",
       "    <tr>\n",
       "      <th>mean</th>\n",
       "      <td>50.822720</td>\n",
       "      <td>0.446922</td>\n",
       "      <td>0.570106</td>\n",
       "      <td>2.480008e+05</td>\n",
       "      <td>0.426977</td>\n",
       "      <td>0.264290</td>\n",
       "      <td>0.194089</td>\n",
       "      <td>-11.621471</td>\n",
       "      <td>0.096411</td>\n",
       "      <td>0.451400</td>\n",
       "    </tr>\n",
       "    <tr>\n",
       "      <th>std</th>\n",
       "      <td>17.679789</td>\n",
       "      <td>0.416981</td>\n",
       "      <td>0.215045</td>\n",
       "      <td>1.568312e+05</td>\n",
       "      <td>0.514145</td>\n",
       "      <td>0.395788</td>\n",
       "      <td>0.160291</td>\n",
       "      <td>8.663364</td>\n",
       "      <td>0.105647</td>\n",
       "      <td>0.277220</td>\n",
       "    </tr>\n",
       "    <tr>\n",
       "      <th>min</th>\n",
       "      <td>0.000000</td>\n",
       "      <td>0.000002</td>\n",
       "      <td>0.063962</td>\n",
       "      <td>-1.000000e+00</td>\n",
       "      <td>-1.000000</td>\n",
       "      <td>0.000000</td>\n",
       "      <td>0.016652</td>\n",
       "      <td>-50.054000</td>\n",
       "      <td>0.023858</td>\n",
       "      <td>0.000000</td>\n",
       "    </tr>\n",
       "    <tr>\n",
       "      <th>25%</th>\n",
       "      <td>39.017000</td>\n",
       "      <td>0.044521</td>\n",
       "      <td>0.418635</td>\n",
       "      <td>1.860163e+05</td>\n",
       "      <td>0.158277</td>\n",
       "      <td>0.000000</td>\n",
       "      <td>0.101674</td>\n",
       "      <td>-15.504000</td>\n",
       "      <td>0.039549</td>\n",
       "      <td>0.212242</td>\n",
       "    </tr>\n",
       "    <tr>\n",
       "      <th>50%</th>\n",
       "      <td>54.109000</td>\n",
       "      <td>0.295272</td>\n",
       "      <td>0.586114</td>\n",
       "      <td>2.362127e+05</td>\n",
       "      <td>0.560389</td>\n",
       "      <td>0.000719</td>\n",
       "      <td>0.128784</td>\n",
       "      <td>-8.611000</td>\n",
       "      <td>0.050425</td>\n",
       "      <td>0.432478</td>\n",
       "    </tr>\n",
       "    <tr>\n",
       "      <th>75%</th>\n",
       "      <td>63.449000</td>\n",
       "      <td>0.929001</td>\n",
       "      <td>0.733073</td>\n",
       "      <td>2.975593e+05</td>\n",
       "      <td>0.791881</td>\n",
       "      <td>0.638930</td>\n",
       "      <td>0.228973</td>\n",
       "      <td>-5.715000</td>\n",
       "      <td>0.094230</td>\n",
       "      <td>0.665369</td>\n",
       "    </tr>\n",
       "    <tr>\n",
       "      <th>max</th>\n",
       "      <td>108.512000</td>\n",
       "      <td>1.094410</td>\n",
       "      <td>1.072089</td>\n",
       "      <td>3.410383e+06</td>\n",
       "      <td>1.094853</td>\n",
       "      <td>1.078601</td>\n",
       "      <td>1.080959</td>\n",
       "      <td>1.389000</td>\n",
       "      <td>1.000445</td>\n",
       "      <td>1.076971</td>\n",
       "    </tr>\n",
       "  </tbody>\n",
       "</table>\n",
       "</div>"
      ],
      "text/plain": [
       "         popularity  acousticness  danceability   duration_ms        energy  \\\n",
       "count  15039.000000  15681.000000  15125.000000  1.558700e+04  15587.000000   \n",
       "mean      50.822720      0.446922      0.570106  2.480008e+05      0.426977   \n",
       "std       17.679789      0.416981      0.215045  1.568312e+05      0.514145   \n",
       "min        0.000000      0.000002      0.063962 -1.000000e+00     -1.000000   \n",
       "25%       39.017000      0.044521      0.418635  1.860163e+05      0.158277   \n",
       "50%       54.109000      0.295272      0.586114  2.362127e+05      0.560389   \n",
       "75%       63.449000      0.929001      0.733073  2.975593e+05      0.791881   \n",
       "max      108.512000      1.094410      1.072089  3.410383e+06      1.094853   \n",
       "\n",
       "       instrumentalness      liveness      loudness   speechiness  \\\n",
       "count      15586.000000  15681.000000  15645.000000  15655.000000   \n",
       "mean           0.264290      0.194089    -11.621471      0.096411   \n",
       "std            0.395788      0.160291      8.663364      0.105647   \n",
       "min            0.000000      0.016652    -50.054000      0.023858   \n",
       "25%            0.000000      0.101674    -15.504000      0.039549   \n",
       "50%            0.000719      0.128784     -8.611000      0.050425   \n",
       "75%            0.638930      0.228973     -5.715000      0.094230   \n",
       "max            1.078601      1.080959      1.389000      1.000445   \n",
       "\n",
       "            valence  \n",
       "count  15004.000000  \n",
       "mean       0.451400  \n",
       "std        0.277220  \n",
       "min        0.000000  \n",
       "25%        0.212242  \n",
       "50%        0.432478  \n",
       "75%        0.665369  \n",
       "max        1.076971  "
      ]
     },
     "execution_count": 5,
     "metadata": {},
     "output_type": "execute_result"
    }
   ],
   "source": [
    "# Display summary statistics\n",
    "print(\"\\nSummary Statistics:\")\n",
    "data.describe()"
   ]
  },
  {
   "cell_type": "code",
   "execution_count": 6,
   "id": "4209a7c3",
   "metadata": {
    "scrolled": true
   },
   "outputs": [
    {
     "name": "stdout",
     "output_type": "stream",
     "text": [
      "\n",
      "Missing Values:\n"
     ]
    },
    {
     "data": {
      "text/plain": [
       "instance_id             0\n",
       "track_name              0\n",
       "popularity            642\n",
       "acousticness            0\n",
       "danceability          556\n",
       "duration_ms            94\n",
       "energy                 94\n",
       "instrumentalness       95\n",
       "key                     0\n",
       "liveness                0\n",
       "loudness               36\n",
       "voice_gender          765\n",
       "mode                   35\n",
       "speechiness            26\n",
       "tempo                   0\n",
       "musician_category    1360\n",
       "valence               677\n",
       "music_genre             0\n",
       "dtype: int64"
      ]
     },
     "execution_count": 6,
     "metadata": {},
     "output_type": "execute_result"
    }
   ],
   "source": [
    "# Check for missing values\n",
    "print(\"\\nMissing Values:\")\n",
    "data.isnull().sum()"
   ]
  },
  {
   "cell_type": "code",
   "execution_count": 7,
   "id": "dd0dc59b",
   "metadata": {
    "scrolled": true
   },
   "outputs": [
    {
     "data": {
      "image/png": "[encoded data removed]",
      "text/plain": [
       "<Figure size 800x500 with 1 Axes>"
      ]
     },
     "metadata": {},
     "output_type": "display_data"
    }
   ],
   "source": [
    "# Visualizations:\n",
    "# Distribution of 'popularity'\n",
    "plt.figure(figsize=(8, 5))\n",
    "sns.histplot(data['popularity'], bins=30, kde=True)\n",
    "plt.title('Distribution of Popularity')\n",
    "plt.xlabel('Popularity')\n",
    "plt.ylabel('Frequency')\n",
    "plt.show()"
   ]
  },
  {
   "cell_type": "markdown",
   "id": "119852ce",
   "metadata": {},
   "source": [
    "## Data Preprocessing"
   ]
  },
  {
   "cell_type": "code",
   "execution_count": 12,
   "id": "1131a78d",
   "metadata": {},
   "outputs": [],
   "source": [
    "# Define numerical and categorical columns\n",
    "numerical_cols = data.select_dtypes(include=[np.number]).columns\n",
    "categorical_cols = data.select_dtypes(exclude=[np.number]).columns"
   ]
  },
  {
   "cell_type": "code",
   "execution_count": 13,
   "id": "9238e8d2",
   "metadata": {},
   "outputs": [],
   "source": [
    "# Handling missing data in numerical columns by filling with mean\n",
    "for col in numerical_cols:\n",
    "    data[col].fillna(data[col].mean(), inplace=True)"
   ]
  },
  {
   "cell_type": "code",
   "execution_count": 14,
   "id": "51300651",
   "metadata": {},
   "outputs": [],
   "source": [
    "# Handling missing data in categorical columns by filling with 'Unknown'\n",
    "for col in categorical_cols:\n",
    "    data[col].fillna('Unknown', inplace=True)"
   ]
  },
  {
   "cell_type": "code",
   "execution_count": 15,
   "id": "7e7aa12b",
   "metadata": {},
   "outputs": [],
   "source": [
    "# Verify if there are any remaining missing values\n",
    "missing_values = data.isnull().sum()"
   ]
  },
  {
   "cell_type": "code",
   "execution_count": 16,
   "id": "4f6e1579",
   "metadata": {},
   "outputs": [
    {
     "data": {
      "text/plain": [
       "instance_id               0\n",
       "track_name                0\n",
       "popularity                0\n",
       "acousticness              0\n",
       "danceability              0\n",
       "duration_ms               0\n",
       "energy                    0\n",
       "instrumentalness          0\n",
       "key                       0\n",
       "liveness                  0\n",
       "loudness                  0\n",
       "voice_gender              0\n",
       "mode                      0\n",
       "speechiness               0\n",
       "tempo                     0\n",
       "musician_category         0\n",
       "valence                   0\n",
       "music_genre_Country       0\n",
       "music_genre_Electronic    0\n",
       "music_genre_Hip-Hop       0\n",
       "music_genre_Jazz          0\n",
       "music_genre_Rap           0\n",
       "music_genre_Rock          0\n",
       "dtype: int64"
      ]
     },
     "execution_count": 16,
     "metadata": {},
     "output_type": "execute_result"
    }
   ],
   "source": [
    "data.isnull().sum()"
   ]
  },
  {
   "cell_type": "code",
   "execution_count": 17,
   "id": "099fc1c7",
   "metadata": {},
   "outputs": [
    {
     "name": "stderr",
     "output_type": "stream",
     "text": [
      "C:\\Users\\acer\\AppData\\Local\\Temp\\ipykernel_28536\\3453075408.py:2: FutureWarning: The default value of regex will change from True to False in a future version. In addition, single character regular expressions will *not* be treated as literal strings when regex=True.\n",
      "  data['tempo'] = data['tempo'].str.replace('?', '0').astype(float)\n"
     ]
    }
   ],
   "source": [
    "# Handling non-numeric columns (e.g., 'tempo')\n",
    "data['tempo'] = data['tempo'].str.replace('?', '0').astype(float)"
   ]
  },
  {
   "cell_type": "code",
   "execution_count": 18,
   "id": "cdd9c987",
   "metadata": {},
   "outputs": [
    {
     "name": "stderr",
     "output_type": "stream",
     "text": [
      "C:\\Users\\acer\\AppData\\Local\\Temp\\ipykernel_28536\\1419576471.py:2: DeprecationWarning: `np.object` is a deprecated alias for the builtin `object`. To silence this warning, use `object` by itself. Doing this will not modify any behavior and is safe. \n",
      "Deprecated in NumPy 1.20; for more details and guidance: https://numpy.org/devdocs/release/1.20.0-notes.html#deprecations\n",
      "  categorical_cols = data.select_dtypes(include=[np.object]).columns\n"
     ]
    }
   ],
   "source": [
    "# Encoding Categorical Features\n",
    "categorical_cols = data.select_dtypes(include=[np.object]).columns\n",
    "data_encoded = pd.get_dummies(data, columns=categorical_cols, drop_first=True)"
   ]
  },
  {
   "cell_type": "code",
   "execution_count": 20,
   "id": "7d3efbf7",
   "metadata": {},
   "outputs": [],
   "source": [
    "# Standardize numerical features\n",
    "scaler = StandardScaler()\n",
    "numerical_cols = data.select_dtypes(include=[np.number]).columns\n",
    "data[numerical_cols] = scaler.fit_transform(data[numerical_cols])\n"
   ]
  },
  {
   "cell_type": "code",
   "execution_count": 23,
   "id": "d632facf",
   "metadata": {},
   "outputs": [],
   "source": [
    "# Splitting data into features (X) and target (y)\n",
    "target = data['popularity']"
   ]
  },
  {
   "cell_type": "code",
   "execution_count": 24,
   "id": "258282da",
   "metadata": {},
   "outputs": [],
   "source": [
    "X_train, X_test, y_train, y_test = train_test_split(data_encoded, target, test_size=0.2, random_state=42)"
   ]
  },
  {
   "cell_type": "code",
   "execution_count": 25,
   "id": "ba59d8f2",
   "metadata": {},
   "outputs": [],
   "source": [
    "# Modeling: Linear Regression \n",
    "from sklearn.linear_model import LinearRegression\n",
    "from sklearn.metrics import mean_squared_error, r2_score\n"
   ]
  },
  {
   "cell_type": "code",
   "execution_count": null,
   "id": "aa5d2db8",
   "metadata": {},
   "outputs": [],
   "source": [
    "model = LinearRegression()\n",
    "model.fit(X_train, y_train)\n"
   ]
  },
  {
   "cell_type": "code",
   "execution_count": null,
   "id": "56a8a38a",
   "metadata": {},
   "outputs": [],
   "source": [
    "# Make predictions on the test set\n",
    "y_pred = model.predict(X_test)"
   ]
  },
  {
   "cell_type": "code",
   "execution_count": null,
   "id": "67a9bb0b",
   "metadata": {},
   "outputs": [],
   "source": [
    "# Evaluate the model\n",
    "mse = mean_squared_error(y_test, y_pred)\n",
    "r2 = r2_score(y_test, y_pred)"
   ]
  },
  {
   "cell_type": "code",
   "execution_count": null,
   "id": "4f3b094f",
   "metadata": {},
   "outputs": [],
   "source": [
    "print(f\"Mean Squared Error: {mse}\")"
   ]
  },
  {
   "cell_type": "code",
   "execution_count": null,
   "id": "9d74273c",
   "metadata": {},
   "outputs": [],
   "source": [
    "f\"R-squared: {r2}\""
   ]
  },
  {
   "cell_type": "markdown",
   "id": "4625d4fe",
   "metadata": {},
   "source": [
    "## Fine-tuning"
   ]
  },
  {
   "cell_type": "code",
   "execution_count": null,
   "id": "2c18f116",
   "metadata": {},
   "outputs": [],
   "source": [
    "# Using GridSearchCV for hyperparameter tuning with Random Forest\n",
    "from sklearn.ensemble import RandomForestRegressor\n",
    "from sklearn.model_selection import GridSearchCV"
   ]
  },
  {
   "cell_type": "code",
   "execution_count": null,
   "id": "bcbc015e",
   "metadata": {},
   "outputs": [],
   "source": [
    "param_grid = {\n",
    "    'n_estimators': [50, 100, 150],\n",
    "    'max_depth': [10, 20, 30],\n",
    "}"
   ]
  },
  {
   "cell_type": "code",
   "execution_count": null,
   "id": "2f384498",
   "metadata": {},
   "outputs": [],
   "source": [
    "rf_model = RandomForestRegressor(random_state=42)\n",
    "grid_search = GridSearchCV(rf_model, param_grid, cv=5, scoring='neg_mean_squared_error')\n",
    "grid_search.fit(X_train, y_train)"
   ]
  },
  {
   "cell_type": "code",
   "execution_count": null,
   "id": "b533fdda",
   "metadata": {},
   "outputs": [],
   "source": [
    "best_rf_model = grid_search.best_estimator_\n",
    "best_rf_model.fit(X_train, y_train)"
   ]
  },
  {
   "cell_type": "code",
   "execution_count": null,
   "id": "843afb5e",
   "metadata": {},
   "outputs": [],
   "source": [
    "y_pred_rf = best_rf_model.predict(X_test)\n",
    "mse_rf = mean_squared_error(y_test, y_pred_rf)\n",
    "r2_rf = r2_score(y_test, y_pred_rf)\n"
   ]
  },
  {
   "cell_type": "code",
   "execution_count": null,
   "id": "4c5a968c",
   "metadata": {},
   "outputs": [],
   "source": [
    "print(\"Random Forest Hyperparameter Tuning Results:\")\n",
    "print(f\"Mean Squared Error: {mse_rf}\")\n",
    "print(f\"R-squared: {r2_rf}\")"
   ]
  },
  {
   "cell_type": "code",
   "execution_count": null,
   "id": "334fdba7",
   "metadata": {},
   "outputs": [],
   "source": []
  }
 ],
 "metadata": {
  "kernelspec": {
   "display_name": "Python 3 (ipykernel)",
   "language": "python",
   "name": "python3"
  },
  "language_info": {
   "codemirror_mode": {
    "name": "ipython",
    "version": 3
   },
   "file_extension": ".py",
   "mimetype": "text/x-python",
   "name": "python",
   "nbconvert_exporter": "python",
   "pygments_lexer": "ipython3",
   "version": "3.10.10"
  }
 },
 "nbformat": 4,
 "nbformat_minor": 5
}
